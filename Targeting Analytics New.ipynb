{
 "cells": [
  {
   "cell_type": "markdown",
   "metadata": {},
   "source": [
    "<img src = 'https://miro.medium.com/max/1000/1*Hd-bZZFZbrIinBkoUvIjdQ.jpeg' align='left' height=\"130\" width=\"130\">"
   ]
  },
  {
   "cell_type": "markdown",
   "metadata": {},
   "source": [
    "<body>\n",
    "    <nav class=\"navbar navbar-expand-lg\" style=\"background-color: #071D49 !important; padding: 0px; padding-left: 15px\">\n",
    "        <a class=\"navbar-brand\"  style=\"color:#fff;text-decoration: none\">Targeting Analytics</a>\n",
    "    </nav>\n",
    "</body>"
   ]
  },
  {
   "cell_type": "code",
   "execution_count": 34,
   "metadata": {},
   "outputs": [],
   "source": [
    "#################### Imports ###################\n",
    "\n",
    "from ipywidgets import widgets, Layout, interact, interactive\n",
    "from IPython.display import display, clear_output\n",
    "import pandas as pd\n",
    "import matplotlib.pyplot as plt"
   ]
  },
  {
   "cell_type": "code",
   "execution_count": 69,
   "metadata": {},
   "outputs": [],
   "source": [
    "############### Button functions ###############\n",
    "\n",
    "def data_management_onclick(obj):\n",
    "    clear_output()\n",
    "    start_master()\n",
    "    # Set the active tab to green\n",
    "    master_selector_hbox.children[0].style.button_color  = 'lightgreen'\n",
    "    # Set inactive tabs to gray\n",
    "    master_selector_hbox.children[1].style.button_color  = 'lightgray'\n",
    "    display(data_management_master)\n",
    "\n",
    "def valuation_onclick(obj):\n",
    "    clear_output()\n",
    "    start_master()\n",
    "    # Set the active tab to green\n",
    "    master_selector_hbox.children[1].style.button_color  = 'lightgreen'\n",
    "    # Set inactive tabs to gray\n",
    "    master_selector_hbox.children[0].style.button_color  = 'lightgray'\n",
    "    display(valuation_master)\n",
    "    \n",
    "def start_master():\n",
    "    master_selector_hbox.children[0].style.button_color  = 'lightgray'\n",
    "    master_selector_hbox.children[1].style.button_color  = 'lightgray'\n",
    "    display(master_selector_hbox)\n",
    "#     df = pd.read_csv('country details.csv')\n",
    "    \n",
    "def plot_table(obj):\n",
    "    df = pd.read_csv('country details.csv')\n",
    "    data_management_onclick(None)\n",
    "    \n",
    "    if file_name_list.value is not None and transformation_list.value is not None and filter_column_value.value\\\n",
    "    is not None and filter_column_list.value is not None and len(filter_column_value.value) > 0 and\\\n",
    "    metric_column_list.value is not None:\n",
    "        \n",
    "        cleaned_value = filter_column_value.value.replace(\"'\",\"\").replace('\"',\"\").replace(\" \",\"\")\n",
    "        if cleaned_value[-1] == \",\":\n",
    "            cleaned_value = cleaned_value[-1:]\n",
    "        country_list = cleaned_value.split(\",\")\n",
    "        df = df.loc[df['Country'].isin(country_list)]\n",
    "        if len(df)>0:\n",
    "            df.plot(kind='bar',x='Country',y=metric_column_list.value)\n",
    "            plt.show()\n",
    "        else:\n",
    "            print('No results!')\n",
    "        \n",
    "    else:\n",
    "        print('enter all values to continue')\n",
    "    "
   ]
  },
  {
   "cell_type": "code",
   "execution_count": 70,
   "metadata": {},
   "outputs": [],
   "source": [
    "############### Frontend UI code ###############\n",
    "\n",
    "data_management_master_button =  widgets.Button(\n",
    "    description = 'Data Management',\n",
    "    icon = 'database',\n",
    "    style = {'button_color': 'lightgray'},\n",
    ")\n",
    "\n",
    "valuation_master_button =  widgets.Button(\n",
    "    description = 'Valuation',\n",
    "    icon = 'check-circle',\n",
    "    style = {'button_color': 'lightgray'},\n",
    ")\n",
    "\n",
    "master_selector_hbox = widgets.HBox([data_management_master_button, valuation_master_button])\n",
    "\n",
    "master_selector_hbox.children[0].on_click(data_management_onclick)\n",
    "master_selector_hbox.children[1].on_click(valuation_onclick)\n",
    "\n",
    "\n",
    "################# Valuation #################\n",
    "\n",
    "deciling_scenario_selection_list = widgets.Dropdown(options=['Q1GC'], description='Select scenario:', disabled=False,\n",
    "                                                    value=None, style = {'description_width': 'initial'})\n",
    "deciling_universe_selection_list = widgets.Dropdown(options=[''], description='Select file:', disabled=False,\n",
    "                                                    value=None, style = {'description_width': 'initial'})\n",
    "deciling_column_selection_dropdown = widgets.SelectMultiple(options=[], description='Columns:', disabled=False,\n",
    "                                                           style = {'description_width': 'initial'})\n",
    "deciling_scenario_selection_list.layout.width = '200px'\n",
    "deciling_universe_selection_list.layout.width = '200px'\n",
    "deciling_column_selection_dropdown.layout.width = '200px'\n",
    "\n",
    "deciling_generate_button = widgets.Button(description='Generate', disabled=False, button_style='success',\n",
    "                                          tooltip='Click Generate after columns are inputted')\n",
    "deciling_save_button = widgets.Button(description='Save to S3', disabled=False, button_style='info',\n",
    "                                          tooltip='Click Generate after columns are inputted')\n",
    "deciling_clear_button = widgets.Button(description='Clear and Retry', disabled=False, button_style='danger',\n",
    "                                       tooltip='Click to clear')\n",
    "\n",
    "\n",
    "deciling_selections_vbox = widgets.VBox([deciling_scenario_selection_list,deciling_universe_selection_list,\n",
    "                                     deciling_column_selection_dropdown])\n",
    "\n",
    "deciling_buttons_vbox = widgets.VBox([deciling_generate_button, deciling_save_button])\n",
    "deciling_buttons_vbox.layout.width = '30%'\n",
    "\n",
    "# Column select vbox\n",
    "list_of_boxes = []\n",
    "for i in range(0, 10):\n",
    "    text_box = widgets.Text(\n",
    "        value='',\n",
    "        placeholder='enter column',\n",
    "        description='Decile-{}:'.format(i + 1),\n",
    "        disabled=False)\n",
    "    list_of_boxes.append(text_box)\n",
    "options_VBOX = widgets.VBox(list_of_boxes)\n",
    "\n",
    "deciling_master_hbox = widgets.HBox([deciling_selections_vbox, options_VBOX, deciling_buttons_vbox])\n",
    "\n",
    "\n",
    "# Valuation - master tab:\n",
    "\n",
    "valuation_master = widgets.Tab()\n",
    "valuation_master.set_title(0, 'Deciling')\n",
    "valuation_master.set_title(1, 'Segmentation')\n",
    "valuation_master.set_title(2, 'K-Means Clustering')\n",
    "\n",
    "in_progress_textbox = widgets.Text(\n",
    "        value='In Progress!',\n",
    "        disabled=False)\n",
    "\n",
    "valuation_master.children = [deciling_master_hbox, in_progress_textbox, in_progress_textbox]"
   ]
  },
  {
   "cell_type": "code",
   "execution_count": 71,
   "metadata": {},
   "outputs": [],
   "source": [
    "############### Data Management ###############\n",
    "file_name_list = widgets.Dropdown(options=['country details'],description='File Name:',disabled=False, value=None,\n",
    "                                 style = {'description_width': 'initial'})\n",
    "transformation_list = widgets.Dropdown(options=['Filter'],description='Transform:',disabled=False, value=None,\n",
    "                                      style = {'description_width': 'initial'})\n",
    "filter_column_list = widgets.Dropdown(options=['Country'],description='Select filter column:',disabled=False, value=None,\n",
    "                                     style = {'description_width': 'initial'})\n",
    "filter_column_value = widgets.Text(description='Filter value:', placeholder= \"Country 1, Country 2, Country 3 ...\",\n",
    "                               disabled=False, value=None,style = {'description_width': 'initial'})\n",
    "metric_column_list = widgets.Dropdown(options=['Area(sq km)','GDP','Population'],description='Select metric column:',\n",
    "                                      disabled=False, value=None, style = {'description_width': 'initial'})\n",
    "\n",
    "# cols_list = widgets.SelectMultiple(options=df.columns,description='Output columns:',disabled=False,\n",
    "#                                    style = {'description_width': 'initial'})\n",
    "# # cols_list.layout.width = \"500px\"\n",
    "# where_condn_box = widgets.Text(description='Condition:', placeholder= \"where (column) in '(value)'\",\n",
    "#                                disabled=False, value=None)\n",
    "generate_button = widgets.Button(description='Generate',disabled= False,button_style='success',\n",
    "                                tooltip='Click Generate after columns are inputted')\n",
    "\n",
    "data_management_master = widgets.VBox([file_name_list, transformation_list, filter_column_list, filter_column_value, \n",
    "                                       metric_column_list, generate_button])\n",
    "\n",
    "# def checker():\n",
    "#     if file_name_list.value is not None and transformation_list.value is not None:\n",
    "#         generate_button.disabled = False\n",
    "\n",
    "# interactive(checker, x = [None, 'hi'])\n",
    "generate_button.on_click(plot_table)"
   ]
  },
  {
   "cell_type": "code",
   "execution_count": 72,
   "metadata": {},
   "outputs": [
    {
     "data": {
      "application/vnd.jupyter.widget-view+json": {
       "model_id": "aacb0a14bba2446f829205f45ec460d5",
       "version_major": 2,
       "version_minor": 0
      },
      "text/plain": [
       "HBox(children=(Button(description='Data Management', icon='database', style=ButtonStyle(button_color='lightgra…"
      ]
     },
     "metadata": {},
     "output_type": "display_data"
    },
    {
     "data": {
      "application/vnd.jupyter.widget-view+json": {
       "model_id": "593886a7c9784dcf80ef91b72cc30c0a",
       "version_major": 2,
       "version_minor": 0
      },
      "text/plain": [
       "VBox(children=(Dropdown(description='File Name:', options=('country details',), style=DescriptionStyle(descrip…"
      ]
     },
     "metadata": {},
     "output_type": "display_data"
    },
    {
     "data": {
      "image/png": "[encoded data removed]",
      "text/plain": [
       "<Figure size 432x288 with 1 Axes>"
      ]
     },
     "metadata": {
      "needs_background": "light"
     },
     "output_type": "display_data"
    }
   ],
   "source": [
    "start_master()"
   ]
  },
  {
   "cell_type": "markdown",
   "metadata": {},
   "source": [
    "<a href=\"https://github.com/gokaai/binder/blob/master/country%20details.csv\">View the full dataset used for this demo by clicking on this link!</a>"
   ]
  },
  {
   "cell_type": "code",
   "execution_count": null,
   "metadata": {},
   "outputs": [],
   "source": []
  }
 ],
 "metadata": {
  "kernelspec": {
   "display_name": "Python 3",
   "language": "python",
   "name": "python3"
  },
  "language_info": {
   "codemirror_mode": {
    "name": "ipython",
    "version": 3
   },
   "file_extension": ".py",
   "mimetype": "text/x-python",
   "name": "python",
   "nbconvert_exporter": "python",
   "pygments_lexer": "ipython3",
   "version": "3.7.3"
  },
  "toc": {
   "base_numbering": 1,
   "nav_menu": {},
   "number_sections": true,
   "sideBar": true,
   "skip_h1_title": false,
   "title_cell": "Table of Contents",
   "title_sidebar": "Contents",
   "toc_cell": false,
   "toc_position": {},
   "toc_section_display": true,
   "toc_window_display": false
  }
 },
 "nbformat": 4,
 "nbformat_minor": 2
}
