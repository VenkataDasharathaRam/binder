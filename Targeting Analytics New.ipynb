{
 "cells": [
  {
   "cell_type": "markdown",
   "metadata": {},
   "source": [
    "<img src = 'https://miro.medium.com/max/1000/1*Hd-bZZFZbrIinBkoUvIjdQ.jpeg' align='left' height=\"130\" width=\"130\">"
   ]
  },
  {
   "cell_type": "markdown",
   "metadata": {},
   "source": [
    "<body>\n",
    "    <nav class=\"navbar navbar-expand-lg\" style=\"background-color: #071D49 !important; padding: 0px; padding-left: 15px\">\n",
    "        <a class=\"navbar-brand\"  style=\"color:#fff;text-decoration: none\">Targeting Analytics</a>\n",
    "    </nav>\n",
    "</body>"
   ]
  },
  {
   "cell_type": "code",
   "execution_count": 1,
   "metadata": {},
   "outputs": [
    {
     "data": {
      "text/html": [
       "<script>\n",
       "    // AUTORUN ALL CELLS ON NOTEBOOK-LOAD!\n",
       "    require(\n",
       "        ['base/js/namespace', 'jquery'], \n",
       "        function(jupyter, $) {\n",
       "            $(jupyter.events).on(\"kernel_ready.Kernel\", function () {\n",
       "                console.log(\"Auto-running all cells-below...\");\n",
       "                jupyter.actions.call('jupyter-notebook:run-all-cells-below');\n",
       "                jupyter.actions.call('jupyter-notebook:save-notebook');\n",
       "            });\n",
       "        }\n",
       "    );\n",
       "</script>\n"
      ],
      "text/plain": [
       "<IPython.core.display.HTML object>"
      ]
     },
     "metadata": {},
     "output_type": "display_data"
    }
   ],
   "source": [
    "%%html\n",
    "<script>\n",
    "    // AUTORUN ALL CELLS ON NOTEBOOK-LOAD!\n",
    "    require(\n",
    "        ['base/js/namespace', 'jquery'], \n",
    "        function(jupyter, $) {\n",
    "            $(jupyter.events).on(\"kernel_ready.Kernel\", function () {\n",
    "                console.log(\"Auto-running all cells-below...\");\n",
    "                jupyter.actions.call('jupyter-notebook:run-all-cells-below');\n",
    "                jupyter.actions.call('jupyter-notebook:save-notebook');\n",
    "            });\n",
    "        }\n",
    "    );\n",
    "</script>"
   ]
  },
  {
   "cell_type": "code",
   "execution_count": 2,
   "metadata": {},
   "outputs": [],
   "source": [
    "# The Script Above runs all of the code cells below it on load"
   ]
  },
  {
   "cell_type": "code",
   "execution_count": 3,
   "metadata": {},
   "outputs": [],
   "source": [
    "#################### Imports ###################\n",
    "\n",
    "from ipywidgets import widgets, Layout, interact, interactive\n",
    "from IPython.display import display, clear_output"
   ]
  },
  {
   "cell_type": "code",
   "execution_count": 4,
   "metadata": {},
   "outputs": [],
   "source": [
    "############### Button functions ###############\n",
    "\n",
    "def data_management_onclick(obj):\n",
    "    clear_output()\n",
    "    start_master()\n",
    "    # Set the active tab to green\n",
    "    master_selector_hbox.children[0].style.button_color  = 'lightgreen'\n",
    "    # Set inactive tabs to gray\n",
    "    master_selector_hbox.children[1].style.button_color  = 'lightgray'\n",
    "    print('In Progress!')\n",
    "\n",
    "def valuation_onclick(obj):\n",
    "    clear_output()\n",
    "    start_master()\n",
    "    # Set the active tab to green\n",
    "    master_selector_hbox.children[1].style.button_color  = 'lightgreen'\n",
    "    # Set inactive tabs to gray\n",
    "    master_selector_hbox.children[0].style.button_color  = 'lightgray'\n",
    "    display(valuation_master)\n",
    "    \n",
    "def start_master():\n",
    "    display(master_selector_hbox)"
   ]
  },
  {
   "cell_type": "code",
   "execution_count": 5,
   "metadata": {},
   "outputs": [
    {
     "ename": "NameError",
     "evalue": "name 'form_item_layout' is not defined",
     "output_type": "error",
     "traceback": [
      "\u001b[1;31m---------------------------------------------------------------------------\u001b[0m",
      "\u001b[1;31mNameError\u001b[0m                                 Traceback (most recent call last)",
      "\u001b[1;32m<ipython-input-5-8c2b128853ff>\u001b[0m in \u001b[0;36m<module>\u001b[1;34m\u001b[0m\n\u001b[0;32m     23\u001b[0m deciling_universe_selection_list = widgets.Dropdown(options=[''], description='Select file:', disabled=False,\n\u001b[0;32m     24\u001b[0m                                                     \u001b[0mvalue\u001b[0m\u001b[1;33m=\u001b[0m\u001b[1;32mNone\u001b[0m\u001b[1;33m,\u001b[0m \u001b[0mstyle\u001b[0m \u001b[1;33m=\u001b[0m \u001b[1;33m{\u001b[0m\u001b[1;34m'description_width'\u001b[0m\u001b[1;33m:\u001b[0m \u001b[1;34m'initial'\u001b[0m\u001b[1;33m}\u001b[0m\u001b[1;33m,\u001b[0m\u001b[1;33m\u001b[0m\u001b[1;33m\u001b[0m\u001b[0m\n\u001b[1;32m---> 25\u001b[1;33m                                                    Layout = form_item_layout)\n\u001b[0m\u001b[0;32m     26\u001b[0m deciling_column_selection_dropdown = widgets.SelectMultiple(options=[], description='Columns:', disabled=False,\n\u001b[0;32m     27\u001b[0m                                                            \u001b[0mstyle\u001b[0m \u001b[1;33m=\u001b[0m \u001b[1;33m{\u001b[0m\u001b[1;34m'description_width'\u001b[0m\u001b[1;33m:\u001b[0m \u001b[1;34m'initial'\u001b[0m\u001b[1;33m}\u001b[0m\u001b[1;33m,\u001b[0m\u001b[1;33m\u001b[0m\u001b[1;33m\u001b[0m\u001b[0m\n",
      "\u001b[1;31mNameError\u001b[0m: name 'form_item_layout' is not defined"
     ]
    }
   ],
   "source": [
    "############### Frontend UI code ###############\n",
    "\n",
    "data_management_master_button =  widgets.Button(\n",
    "    description = 'Data Management',\n",
    "    icon = 'database',\n",
    "    style = {'button_color': 'lightgray'},\n",
    ")\n",
    "\n",
    "valuation_master_button =  widgets.Button(\n",
    "    description = 'Valuation',\n",
    "    icon = 'check-circle',\n",
    "    style = {'button_color': 'lightgray'},\n",
    ")\n",
    "\n",
    "master_selector_hbox = widgets.HBox([data_management_master_button, valuation_master_button])\n",
    "\n",
    "master_selector_hbox.children[0].on_click(data_management_onclick)\n",
    "master_selector_hbox.children[1].on_click(valuation_onclick)\n",
    "\n",
    "\n",
    "deciling_scenario_selection_list = widgets.Dropdown(options=['Q1GC'], description='Select scenario:', disabled=False,\n",
    "                                                    value=None, style = {'description_width': 'initial'})\n",
    "deciling_universe_selection_list = widgets.Dropdown(options=[''], description='Select file:', disabled=False,\n",
    "                                                    value=None, style = {'description_width': 'initial'})\n",
    "deciling_column_selection_dropdown = widgets.SelectMultiple(options=[], description='Columns:', disabled=False,\n",
    "                                                           style = {'description_width': 'initial'})\n",
    "deciling_scenario_selection_list.layout.width = '200px'\n",
    "deciling_universe_selection_list.layout.width = '200px'\n",
    "deciling_column_selection_dropdown.layout.width = '200px'\n",
    "\n",
    "deciling_generate_button = widgets.Button(description='Generate', disabled=False, button_style='success',\n",
    "                                          tooltip='Click Generate after columns are inputted')\n",
    "deciling_save_button = widgets.Button(description='Save to S3', disabled=False, button_style='info',\n",
    "                                          tooltip='Click Generate after columns are inputted')\n",
    "deciling_clear_button = widgets.Button(description='Clear and Retry', disabled=False, button_style='danger',\n",
    "                                       tooltip='Click to clear')\n",
    "\n",
    "\n",
    "deciling_selections_vbox = widgets.VBox([deciling_scenario_selection_list,deciling_universe_selection_list,\n",
    "                                     deciling_column_selection_dropdown])\n",
    "\n",
    "deciling_buttons_vbox = widgets.VBox([deciling_generate_button, deciling_save_button, deciling_clear_button])\n",
    "deciling_buttons_vbox.layout.width = '30%'\n",
    "\n",
    "# Column select vbox\n",
    "list_of_boxes = []\n",
    "for i in range(0, 10):\n",
    "    text_box = widgets.Text(\n",
    "        value='',\n",
    "        placeholder='enter column',\n",
    "        description='Decile-{}:'.format(i + 1),\n",
    "        disabled=False)\n",
    "    list_of_boxes.append(text_box)\n",
    "options_VBOX = widgets.VBox(list_of_boxes)\n",
    "\n",
    "deciling_master_hbox = widgets.HBox([deciling_selections_vbox, options_VBOX, deciling_buttons_vbox])\n",
    "\n",
    "\n",
    "# Valuation - master tab:\n",
    "\n",
    "valuation_master = widgets.Tab()\n",
    "valuation_master.set_title(0, 'Deciling')\n",
    "valuation_master.set_title(1, 'Segmentation')\n",
    "valuation_master.set_title(2, 'K-Means Clustering')\n",
    "\n",
    "in_progress_textbox = widgets.Text(\n",
    "        value='In Progress!',\n",
    "        disabled=False)\n",
    "\n",
    "valuation_master.children = [deciling_master_hbox, in_progress_textbox, in_progress_textbox]\n"
   ]
  },
  {
   "cell_type": "code",
   "execution_count": null,
   "metadata": {},
   "outputs": [],
   "source": [
    "start_master()\n"
   ]
  },
  {
   "cell_type": "code",
   "execution_count": null,
   "metadata": {},
   "outputs": [],
   "source": []
  },
  {
   "cell_type": "code",
   "execution_count": null,
   "metadata": {},
   "outputs": [],
   "source": []
  },
  {
   "cell_type": "code",
   "execution_count": null,
   "metadata": {},
   "outputs": [],
   "source": []
  },
  {
   "cell_type": "code",
   "execution_count": null,
   "metadata": {},
   "outputs": [],
   "source": []
  },
  {
   "cell_type": "code",
   "execution_count": null,
   "metadata": {},
   "outputs": [],
   "source": []
  },
  {
   "cell_type": "code",
   "execution_count": null,
   "metadata": {},
   "outputs": [],
   "source": []
  },
  {
   "cell_type": "code",
   "execution_count": null,
   "metadata": {},
   "outputs": [],
   "source": []
  }
 ],
 "metadata": {
  "kernelspec": {
   "display_name": "Python 3",
   "language": "python",
   "name": "python3"
  },
  "language_info": {
   "codemirror_mode": {
    "name": "ipython",
    "version": 3
   },
   "file_extension": ".py",
   "mimetype": "text/x-python",
   "name": "python",
   "nbconvert_exporter": "python",
   "pygments_lexer": "ipython3",
   "version": "3.7.3"
  },
  "toc": {
   "base_numbering": 1,
   "nav_menu": {},
   "number_sections": true,
   "sideBar": true,
   "skip_h1_title": false,
   "title_cell": "Table of Contents",
   "title_sidebar": "Contents",
   "toc_cell": false,
   "toc_position": {},
   "toc_section_display": true,
   "toc_window_display": false
  }
 },
 "nbformat": 4,
 "nbformat_minor": 2
}
