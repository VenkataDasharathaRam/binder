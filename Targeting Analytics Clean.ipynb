{
 "cells": [
  {
   "cell_type": "markdown",
   "metadata": {},
   "source": [
    "<img src = 'https://miro.medium.com/max/1000/1*Hd-bZZFZbrIinBkoUvIjdQ.jpeg' align='left' height=\"130\" width=\"130\">"
   ]
  },
  {
   "cell_type": "markdown",
   "metadata": {},
   "source": [
    "<body>\n",
    "    <nav class=\"navbar navbar-expand-lg\" style=\"background-color: #071D49 !important; padding: 0px; padding-left: 15px\">\n",
    "        <a class=\"navbar-brand\"  style=\"color:#fff;text-decoration: none\">Targeting Analytics</a>\n",
    "    </nav>\n",
    "</body>"
   ]
  },
  {
   "cell_type": "code",
   "execution_count": 127,
   "metadata": {},
   "outputs": [],
   "source": [
    "#################### Imports ###################\n",
    "\n",
    "import ipywidgets as widgets \n",
    "from ipywidgets import Layout, interactive, Box, FloatText, Text, Label, Dropdown, Button, HBox, VBox\n",
    "from IPython.display import display, clear_output\n",
    "import pandas as pd\n",
    "import matplotlib.pyplot as plt"
   ]
  },
  {
   "cell_type": "code",
   "execution_count": 128,
   "metadata": {},
   "outputs": [],
   "source": [
    "############### Button functions ###############\n",
    "\n",
    "def data_management_onclick(obj):\n",
    "    clear_output()\n",
    "    start_master()\n",
    "    # Set the active tab to green\n",
    "    master_selector_hbox.children[0].button_style  = 'success'\n",
    "    # Set inactive tabs to gray\n",
    "    master_selector_hbox.children[1].button_style  = 'warning'\n",
    "    display(data_management_master_tab)\n",
    "\n",
    "def valuation_onclick(obj):\n",
    "    clear_output()\n",
    "    start_master()\n",
    "    # Set the active tab to green\n",
    "    master_selector_hbox.children[1].button_style  = 'success'\n",
    "    # Set inactive tabs to gray\n",
    "    master_selector_hbox.children[0].button_style  = 'warning'\n",
    "    \n",
    "def start_master():\n",
    "    master_selector_hbox.children[0].button_style  = 'warning'\n",
    "    master_selector_hbox.children[1].button_style  = 'warning'\n",
    "    display(master_selector_hbox)"
   ]
  },
  {
   "cell_type": "code",
   "execution_count": 129,
   "metadata": {},
   "outputs": [],
   "source": [
    "############### Frontend UI code ###############\n",
    "\n",
    "data_management_master_button =  widgets.Button(\n",
    "    description = 'Data Management',\n",
    "    icon = 'database',\n",
    "    button_style = 'warning',\n",
    ")\n",
    "\n",
    "valuation_master_button =  widgets.Button(\n",
    "    description = 'Call planning',\n",
    "    icon = 'phone',\n",
    "    button_style = 'warning',\n",
    ")\n",
    "\n",
    "master_selector_hbox = widgets.HBox([data_management_master_button, valuation_master_button])\n",
    "\n",
    "master_selector_hbox.children[0].on_click(data_management_onclick)\n",
    "master_selector_hbox.children[1].on_click(valuation_onclick)"
   ]
  },
  {
   "cell_type": "code",
   "execution_count": 130,
   "metadata": {},
   "outputs": [],
   "source": [
    "# some formatting settings:\n",
    "\n",
    "parameters_layout =Layout(\n",
    "    display='flex',\n",
    "    flex_flow='column',\n",
    "    align_items='flex-end',\n",
    "    width='50%'\n",
    ")\n",
    "\n",
    "transform_box_layout =Layout(\n",
    "    display='flex',\n",
    "    justify_content='space-between',\n",
    "    justify_items='center',\n",
    "    flex_flow='column',\n",
    "    align_items='initial',\n",
    "    width='100%'\n",
    ")\n",
    "\n",
    "\n",
    "# widget functionalities:\n",
    "\n",
    "def transformation_selected(button):\n",
    "    \n",
    "    filter_index = int(button.owner.description)\n",
    "    if button.new == 'filter':\n",
    "        \n",
    "        filter_parameters = [\n",
    "            Box([Label(value='Filter Column:'),\n",
    "                 Dropdown(options=['Country'], value = None)]),\n",
    "            Box([Label(value='Filter value:'),\n",
    "                 Text(placeholder = 'Enter Country Names (comma separated)')]),\n",
    "            Box([Label(value='Select metric column:'),\n",
    "                 Dropdown(options=['Area(sq km)','GDP','Population'], value = None)]),\n",
    "            ]\n",
    "\n",
    "        parameters_box = Box(filter_parameters, layout = parameters_layout)\n",
    "    \n",
    "    else:\n",
    "        parameters_box = Box()\n",
    "        \n",
    "    if len(transform_box.children[filter_index].children) < 3: # dont keep on adding multiple parameter blocks\n",
    "        transform_box.children[filter_index].children += tuple([parameters_box])\n",
    "    else:\n",
    "        transform_box.children[filter_index].children = tuple(list(transform_box.children[filter_index].\\\n",
    "                                                                           children)[:-1])\n",
    "        transform_box.children[filter_index].children += tuple([parameters_box])\n",
    "    \n",
    "def add_transformation(button):\n",
    "    _temp_transform_selection_box = Box([Label(value='Select transformation:'), \n",
    "                       Dropdown(options=['filter', 'placeholder'], \n",
    "                                description = '{}'.format(len(transform_box.children)-2),\n",
    "                                value=None)])\n",
    "    _temp_transform_box_children_list = list(transform_box.children)\n",
    "    _temp_transform_box_children_list.insert(-2, _temp_transform_selection_box)\n",
    "    number_of_elements = len(_temp_transform_box_children_list)\n",
    "    transform_box.children = tuple(_temp_transform_box_children_list)\n",
    "    transform_box.children[len(_temp_transform_box_children_list)-3].children[1].\\\n",
    "                                observe(transformation_selected, names=['value'])\n",
    "    \n",
    "def delete_transformation(button):\n",
    "    _temp_transform_box_children_list = list(transform_box.children)\n",
    "    if \"select transformation\" in _temp_transform_box_children_list[-3].children[0].value.lower():\n",
    "        _temp_transform_box_children_list.pop(-3)\n",
    "        number_of_elements = len(_temp_transform_box_children_list)\n",
    "        transform_box.children = tuple(_temp_transform_box_children_list)\n",
    "    \n",
    "\n",
    "# initialize data management widgets:\n",
    "\n",
    "add_transformation_button = Button(button_style='info', icon='plus-circle',\n",
    "                                   tooltip='Add new transformation')\n",
    "\n",
    "delete_transformation_button = Button(button_style='danger', icon='trash',\n",
    "                                   tooltip='Delete last added transformation')\n",
    "\n",
    "generate_transformation_button = Button(button_style='success', description = 'Generate',\n",
    "                                   tooltip='Click to generate with given configurations')\n",
    "\n",
    "transform_box = Box([Box([Label(value='Select file:', layout=Layout(width='13.4%')), \n",
    "                       Dropdown(options=['country details.csv','placeholder.csv'])])\n",
    "                    , Box([Label(value='Select transformation:'), \n",
    "                       Dropdown(options=['filter', 'placeholder'], description = '1', value=None)]), \n",
    "                      add_transformation_button, \n",
    "                      delete_transformation_button], layout = transform_box_layout)\n",
    "\n",
    "data_management_master_tab = widgets.Tab()\n",
    "data_management_master_tab.set_title(0, 'Transform')\n",
    "data_management_master_tab.set_title(1, 'Load')\n",
    "data_management_master_tab.children = [transform_box, Text()]\n",
    "\n",
    "# observe for the first selection box. for added boxes, observe is called dynamically.\n",
    "\n",
    "transform_box.children[1].children[1].observe(transformation_selected, names=['value'])\n",
    "\n",
    "add_transformation_button.on_click(add_transformation)\n",
    "delete_transformation_button.on_click(delete_transformation)"
   ]
  },
  {
   "cell_type": "code",
   "execution_count": 132,
   "metadata": {
    "scrolled": true
   },
   "outputs": [
    {
     "data": {
      "application/vnd.jupyter.widget-view+json": {
       "model_id": "824f03fc0a2a4bf9bf713ea8f0479ba4",
       "version_major": 2,
       "version_minor": 0
      },
      "text/plain": [
       "HBox(children=(Button(button_style='warning', description='Data Management', icon='database', style=ButtonStyl…"
      ]
     },
     "metadata": {},
     "output_type": "display_data"
    }
   ],
   "source": [
    "start_master()"
   ]
  },
  {
   "cell_type": "markdown",
   "metadata": {},
   "source": [
    "<h5>MI Module progress</h6>\n",
    "<img src = 'mi.png' align='left' height=\"1000\" width=\"1000\">"
   ]
  },
  {
   "cell_type": "code",
   "execution_count": null,
   "metadata": {},
   "outputs": [],
   "source": []
  },
  {
   "cell_type": "code",
   "execution_count": null,
   "metadata": {},
   "outputs": [],
   "source": []
  }
 ],
 "metadata": {
  "kernelspec": {
   "display_name": "Python 3",
   "language": "python",
   "name": "python3"
  },
  "language_info": {
   "codemirror_mode": {
    "name": "ipython",
    "version": 3
   },
   "file_extension": ".py",
   "mimetype": "text/x-python",
   "name": "python",
   "nbconvert_exporter": "python",
   "pygments_lexer": "ipython3",
   "version": "3.7.3"
  },
  "toc": {
   "base_numbering": 1,
   "nav_menu": {},
   "number_sections": true,
   "sideBar": true,
   "skip_h1_title": false,
   "title_cell": "Table of Contents",
   "title_sidebar": "Contents",
   "toc_cell": false,
   "toc_position": {},
   "toc_section_display": true,
   "toc_window_display": false
  }
 },
 "nbformat": 4,
 "nbformat_minor": 2
}
